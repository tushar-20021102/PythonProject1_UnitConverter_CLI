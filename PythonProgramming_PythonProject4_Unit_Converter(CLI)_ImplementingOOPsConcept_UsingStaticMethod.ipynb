{
 "cells": [
  {
   "cell_type": "code",
   "execution_count": 3,
   "id": "a7469ba5-3dd7-42a9-bece-8149764f3dbf",
   "metadata": {},
   "outputs": [
    {
     "name": "stdout",
     "output_type": "stream",
     "text": [
      " === Unit Converter === \n",
      "1. Kilometers to Miles\n",
      "2. Miles to Kilometers\n",
      "3. Celsius to Fahrenheit\n",
      "4. Fahrenheit to Celsius\n"
     ]
    },
    {
     "name": "stdin",
     "output_type": "stream",
     "text": [
      "Choose Conversion (1-4):  1\n",
      "Enter Kilometers:  34\n"
     ]
    },
    {
     "name": "stdout",
     "output_type": "stream",
     "text": [
      "34.0 km = 21.13 miles\n"
     ]
    }
   ],
   "source": [
    "class UnitConverter:\n",
    "    @staticmethod\n",
    "    def km_to_miles(km):\n",
    "        return km * 0.621371\n",
    "\n",
    "    @staticmethod\n",
    "    def miles_to_km(miles):\n",
    "        return miles / 0.621371\n",
    "\n",
    "    @staticmethod\n",
    "    def c_to_f(celsius):\n",
    "        return (celsius * 9/5) + 32\n",
    "\n",
    "    @staticmethod \n",
    "    def f_to_c(fahrenheit):\n",
    "        return (fahrenheit - 32) * 5/9\n",
    "\n",
    "\n",
    "# Menu-driven program (outside the class)\n",
    "print(\" === Unit Converter === \")\n",
    "print(\"1. Kilometers to Miles\")\n",
    "print(\"2. Miles to Kilometers\")\n",
    "print(\"3. Celsius to Fahrenheit\")\n",
    "print(\"4. Fahrenheit to Celsius\")\n",
    "\n",
    "choice = input(\"Choose Conversion (1-4): \")\n",
    "\n",
    "try:\n",
    "    if choice == '1':\n",
    "        km = float(input(\"Enter Kilometers: \"))\n",
    "        print(f\"{km} km = {UnitConverter.km_to_miles(km):.2f} miles\")\n",
    "\n",
    "    elif choice == '2':\n",
    "        miles = float(input(\"Enter Miles: \"))\n",
    "        print(f\"{miles} miles = {UnitConverter.miles_to_km(miles):.2f} km\")\n",
    "\n",
    "    elif choice == '3':\n",
    "        c = float(input(\"Enter Celsius: \"))\n",
    "        print(f\"{c}\\u00B0C = {UnitConverter.c_to_f(c):.2f}\\u00B0F\")\n",
    "\n",
    "    elif choice == '4':\n",
    "        f = float(input(\"Enter Fahrenheit: \"))\n",
    "        print(f\"{f}\\u00B0F = {UnitConverter.f_to_c(f):.2f}\\u00B0C\")\n",
    "\n",
    "    else:\n",
    "        print(\"Invalid Choice!!\")\n",
    "\n",
    "except ValueError:\n",
    "    print(\"Please enter a valid number.\")\n"
   ]
  },
  {
   "cell_type": "code",
   "execution_count": null,
   "id": "362a192a-d8f5-4a6e-885a-60012f0c971d",
   "metadata": {},
   "outputs": [],
   "source": []
  }
 ],
 "metadata": {
  "kernelspec": {
   "display_name": "Python 3 (ipykernel)",
   "language": "python",
   "name": "python3"
  },
  "language_info": {
   "codemirror_mode": {
    "name": "ipython",
    "version": 3
   },
   "file_extension": ".py",
   "mimetype": "text/x-python",
   "name": "python",
   "nbconvert_exporter": "python",
   "pygments_lexer": "ipython3",
   "version": "3.13.5"
  }
 },
 "nbformat": 4,
 "nbformat_minor": 5
}
