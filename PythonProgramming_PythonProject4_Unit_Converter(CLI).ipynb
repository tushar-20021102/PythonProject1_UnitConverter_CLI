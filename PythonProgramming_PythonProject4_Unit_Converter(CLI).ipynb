{
 "cells": [
  {
   "cell_type": "code",
   "execution_count": 2,
   "id": "f41368b1-b18d-4013-ac5e-ff696e6f9930",
   "metadata": {},
   "outputs": [
    {
     "name": "stdout",
     "output_type": "stream",
     "text": [
      " === UNIT CONVERTER ===\n",
      "1. Kilometers to Miles\n",
      "2. Miles to Kilometers\n",
      "3. Celsius to Fahrenheit\n",
      "4. Fahrenheit to Celsius\n"
     ]
    },
    {
     "name": "stdin",
     "output_type": "stream",
     "text": [
      "Choose Conversion (1-4):  1\n",
      "Enter kilometers:  23\n"
     ]
    },
    {
     "name": "stdout",
     "output_type": "stream",
     "text": [
      "23.0 km = 14.29 miles\n"
     ]
    }
   ],
   "source": [
    "def km_to_miles(km):\n",
    "    return km * 0.621371\n",
    "\n",
    "def miles_to_km(miles):\n",
    "    return miles / 0.621371\n",
    "\n",
    "def c_to_f(celsius):\n",
    "    return (celsius * 9/5) + 32\n",
    "\n",
    "def f_to_c(fahrenheit):\n",
    "    return (fahrenheit - 32) * 5/9\n",
    "\n",
    "print(\" === UNIT CONVERTER ===\")\n",
    "print(\"1. Kilometers to Miles\")\n",
    "print(\"2. Miles to Kilometers\")\n",
    "print(\"3. Celsius to Fahrenheit\")\n",
    "print(\"4. Fahrenheit to Celsius\")\n",
    "\n",
    "choice = input(\"Choose Conversion (1-4): \")\n",
    "try:\n",
    "    if choice == '1':\n",
    "        km = float(input(\"Enter kilometers: \"))\n",
    "        print(f\"{km} km = {km_to_miles(km):.2f} miles\")\n",
    "    elif choice == '2':\n",
    "        miles = float(input(\"Enter miles: \"))\n",
    "        print(f\"{miles} miles = {miles_to_km(miles):.2f} km\")\n",
    "    elif choice == '3':\n",
    "        c = float(input(\"Enter Celsius: \"))\n",
    "        print(f\"{c}\\u00B0C = {c_to_f(c):.2f}\\u00B0F\")\n",
    "    elif choice == '4':\n",
    "        f = float(input(\"Enter Fahrenheit: \"))\n",
    "        print(f\"{f}\\u00B0F = {f_to_c(f):.2f}\\u00B0C\")\n",
    "    else:\n",
    "        print(\"Invalid Choice\")\n",
    "except ValueError:\n",
    "    print(\"Please enter a valid number.\")\n"
   ]
  },
  {
   "cell_type": "code",
   "execution_count": null,
   "id": "e121ffd4-d8ae-4285-bc5c-a59a128253a7",
   "metadata": {},
   "outputs": [],
   "source": []
  }
 ],
 "metadata": {
  "kernelspec": {
   "display_name": "Python 3 (ipykernel)",
   "language": "python",
   "name": "python3"
  },
  "language_info": {
   "codemirror_mode": {
    "name": "ipython",
    "version": 3
   },
   "file_extension": ".py",
   "mimetype": "text/x-python",
   "name": "python",
   "nbconvert_exporter": "python",
   "pygments_lexer": "ipython3",
   "version": "3.13.5"
  }
 },
 "nbformat": 4,
 "nbformat_minor": 5
}
