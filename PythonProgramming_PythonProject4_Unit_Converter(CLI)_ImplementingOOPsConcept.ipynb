{
 "cells": [
  {
   "cell_type": "code",
   "execution_count": 3,
   "id": "0f29c4c1-a436-4718-9453-147436d94638",
   "metadata": {},
   "outputs": [
    {
     "name": "stdout",
     "output_type": "stream",
     "text": [
      " === Unit Converter === \n",
      "1. Kilometers to Miles\n",
      "2. Miles to Kilometers\n",
      "3. Celsius to Fahrenheit\n",
      "4. Fahrenheit to Celsius\n"
     ]
    },
    {
     "name": "stdin",
     "output_type": "stream",
     "text": [
      "Choose Conversion (1-4):  3\n",
      "Enter Celsius:  155\n"
     ]
    },
    {
     "name": "stdout",
     "output_type": "stream",
     "text": [
      "155.0°C = 311.00°F\n"
     ]
    }
   ],
   "source": [
    "class UnitConverter:\n",
    "    def __init__(self, value=0.0):   # fixed __init__ syntax\n",
    "        self.value = value\n",
    "\n",
    "    def set_value(self, value):\n",
    "        self.value = value\n",
    "\n",
    "    def km_to_miles(self):\n",
    "        return self.value * 0.621371\n",
    "\n",
    "    def miles_to_km(self):\n",
    "        return self.value / 0.621371\n",
    "\n",
    "    def c_to_f(self):\n",
    "        return (self.value * 9/5) + 32\n",
    "\n",
    "    def f_to_c(self):\n",
    "        return (self.value - 32) * 5/9\n",
    "\n",
    "\n",
    "# Driver Code\n",
    "converter = UnitConverter()\n",
    "\n",
    "print(\" === Unit Converter === \")\n",
    "print(\"1. Kilometers to Miles\")\n",
    "print(\"2. Miles to Kilometers\")\n",
    "print(\"3. Celsius to Fahrenheit\")\n",
    "print(\"4. Fahrenheit to Celsius\")\n",
    "\n",
    "choice = input(\"Choose Conversion (1-4): \")\n",
    "try:\n",
    "    if choice == '1':\n",
    "        km = float(input(\"Enter Kilometers: \"))\n",
    "        converter.set_value(km)\n",
    "        print(f\"{km} km = {converter.km_to_miles():.2f} miles\")\n",
    "\n",
    "    elif choice == '2':   # fixed == instead of =\n",
    "        miles = float(input(\"Enter miles: \"))\n",
    "        converter.set_value(miles)\n",
    "        print(f\"{miles} miles = {converter.miles_to_km():.2f} km\")\n",
    "\n",
    "    elif choice == '3':   # fixed\n",
    "        c = float(input(\"Enter Celsius: \"))\n",
    "        converter.set_value(c)\n",
    "        print(f\"{c}\\u00B0C = {converter.c_to_f():.2f}\\u00B0F\")\n",
    "\n",
    "    elif choice == '4':   # fixed\n",
    "        f = float(input(\"Enter Fahrenheit: \"))\n",
    "        converter.set_value(f)\n",
    "        print(f\"{f}\\u00B0F = {converter.f_to_c():.2f}\\u00B0C\")\n",
    "\n",
    "    else:\n",
    "        print(\"Invalid Choice\")\n",
    "\n",
    "except ValueError:\n",
    "    print(\"Please enter a valid number.\")\n"
   ]
  },
  {
   "cell_type": "code",
   "execution_count": null,
   "id": "d765f6cc-ae01-4df4-b206-455bc97c5c0c",
   "metadata": {},
   "outputs": [],
   "source": []
  }
 ],
 "metadata": {
  "kernelspec": {
   "display_name": "Python 3 (ipykernel)",
   "language": "python",
   "name": "python3"
  },
  "language_info": {
   "codemirror_mode": {
    "name": "ipython",
    "version": 3
   },
   "file_extension": ".py",
   "mimetype": "text/x-python",
   "name": "python",
   "nbconvert_exporter": "python",
   "pygments_lexer": "ipython3",
   "version": "3.13.5"
  }
 },
 "nbformat": 4,
 "nbformat_minor": 5
}
