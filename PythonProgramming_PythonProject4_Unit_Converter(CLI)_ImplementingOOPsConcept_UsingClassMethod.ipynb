{
 "cells": [
  {
   "cell_type": "code",
   "execution_count": 2,
   "id": "e5baf903-71a6-4855-93c0-d608a97f80d8",
   "metadata": {},
   "outputs": [
    {
     "name": "stdout",
     "output_type": "stream",
     "text": [
      " === UNIT CONVERTER === \n",
      "1. Kilometers to Miles\n",
      "2. Miles to Kilometers\n",
      "3. Celsius to Fahrenheit\n",
      "4. Fahrenheit to Celsius\n"
     ]
    },
    {
     "name": "stdin",
     "output_type": "stream",
     "text": [
      "Choose Conversion(1-4):  4\n",
      "Enter Fahrenheit:  140\n"
     ]
    },
    {
     "name": "stdout",
     "output_type": "stream",
     "text": [
      "140.0°F = 60.00°C\n"
     ]
    }
   ],
   "source": [
    "class UnitConverter:\n",
    "    def __init__(self, value):\n",
    "        self.value = value\n",
    "\n",
    "    @classmethod\n",
    "    def km_to_miles(cls,km):\n",
    "        return km * 0.621371\n",
    "\n",
    "    @classmethod \n",
    "    def miles_to_km(cls, miles):\n",
    "        return miles / 0.621371\n",
    "\n",
    "    @classmethod \n",
    "    def c_to_f(cls, celsius):\n",
    "        return (celsius * 9/5) + 32\n",
    "\n",
    "    @classmethod \n",
    "    def f_to_c(cls, fahrenheit):\n",
    "        return (fahrenheit - 32) * 5/9\n",
    "\n",
    "\n",
    "print(\" === UNIT CONVERTER === \")\n",
    "print(\"1. Kilometers to Miles\")\n",
    "print(\"2. Miles to Kilometers\")\n",
    "print(\"3. Celsius to Fahrenheit\")\n",
    "print(\"4. Fahrenheit to Celsius\")\n",
    "\n",
    "choice = input(\"Choose Conversion(1-4): \")\n",
    "try:\n",
    "    if choice == '1':\n",
    "        km = float(input(\"Enter Kilometers: \"))\n",
    "        print(f\"{km}km = {UnitConverter.km_to_miles(km):.2f}miles\")\n",
    "\n",
    "    elif choice == '2':\n",
    "        miles = float(input(\"Enter Miles: \"))\n",
    "        print(f\"{miles}miles = {UnitConverter.miles_to_km(miles):.2f}km\")\n",
    "\n",
    "    elif choice == '3':\n",
    "        c = float(input(\"Enter Choice: \"))\n",
    "        print(f\"{c}\\u00B0C = {UnitConverter.c_to_f(c):.2f}\\u00B0F\")\n",
    "\n",
    "    elif choice == '4':\n",
    "        f = float(input(\"Enter Fahrenheit: \"))\n",
    "        print(f\"{f}\\u00B0F = {UnitConverter.f_to_c(f):.2f}\\u00B0C\")\n",
    "\n",
    "    else:\n",
    "        print(\"Invalid Case!!\")\n",
    "\n",
    "except ValueError:\n",
    "    print(\"Please enter a valid number!!\")"
   ]
  },
  {
   "cell_type": "code",
   "execution_count": null,
   "id": "442f87da-71b9-4861-8067-a40a74a3dea3",
   "metadata": {},
   "outputs": [],
   "source": []
  }
 ],
 "metadata": {
  "kernelspec": {
   "display_name": "Python 3 (ipykernel)",
   "language": "python",
   "name": "python3"
  },
  "language_info": {
   "codemirror_mode": {
    "name": "ipython",
    "version": 3
   },
   "file_extension": ".py",
   "mimetype": "text/x-python",
   "name": "python",
   "nbconvert_exporter": "python",
   "pygments_lexer": "ipython3",
   "version": "3.13.5"
  }
 },
 "nbformat": 4,
 "nbformat_minor": 5
}
